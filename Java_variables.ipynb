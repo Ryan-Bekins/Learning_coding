{
 "cells": [
  {
   "attachments": {},
   "cell_type": "markdown",
   "metadata": {},
   "source": [
    "# Variables In Java!\n",
    "\n",
    "### Data Types\n",
    "1. Boolean: Holds two Values, True Or False\n",
    "2. Int: can hold value -2 billion to 2 billion\n",
    "3. Double: Fractional number up to 15 digits (3.141592653589793)\n",
    "4. Char: Stores single character/letter.ASCII Value. ex. 'a'\n",
    "5. String: Stores a sequence of Characters. ex. \"Hello World\".\n",
    "\n",
    "### Primitive VS Reference Data Types\n",
    "\n",
    "##### Primitive\n",
    "* Stores Data\n",
    "* Can only hold one value \n",
    "* Less memory\n",
    "* Fast\n",
    "##### Reference\n",
    "* User Defined\n",
    "* Stores and address\n",
    "* Can hold more than one value\n",
    "* Uses more memory\n",
    "* Slower\n",
    "\n",
    "\n",
    "\n"
   ]
  },
  {
   "cell_type": "markdown",
   "metadata": {},
   "source": []
  },
  {
   "attachments": {},
   "cell_type": "markdown",
   "metadata": {},
   "source": [
    "# How To Create A Variable\n",
    "1. Declare value type that the data is going to store\n",
    "2. Create Variable name\n",
    "3. Use ; ex. int x;\n",
    "4. Assign the variable (see code below)\n",
    "\n"
   ]
  },
  {
   "cell_type": "code",
   "execution_count": null,
   "metadata": {
    "vscode": {
     "languageId": "javascript"
    }
   },
   "outputs": [],
   "source": [
    "//declaration\n",
    "int x;\n",
    "\n",
    "//assignment\n",
    "x = 123; \n",
    "\n",
    "//Can combine steps, this is called initialization\n",
    "int x = 123; \n",
    "\n"
   ]
  },
  {
   "attachments": {},
   "cell_type": "markdown",
   "metadata": {},
   "source": [
    "# Local Variables\n",
    "* Declared iside a block of code, and are only accessible within that block, \n",
    "* Only used to store values that aer needed for a short time\n",
    "* Not accessible by other methods or from rest of the class\n",
    "* To use you must first assign the vallue, there is no default value"
   ]
  },
  {
   "cell_type": "code",
   "execution_count": null,
   "metadata": {
    "vscode": {
     "languageId": "javascript"
    }
   },
   "outputs": [],
   "source": [
    "public void calculate() {\n",
    "  int x = 5; // local variable\n",
    "  int y = 10;// Local Variable\n",
    "  int sum = x + y;// Local Variable\n",
    "  System.out.println(\"The sum of x and y is: \" + sum);\n",
    "}\n"
   ]
  },
  {
   "attachments": {},
   "cell_type": "markdown",
   "metadata": {},
   "source": [
    "# Instance Variables\n",
    "* Declared within a class but outside of method or block of code\n",
    "* Stores Data that is specific to each class\n",
    "* Hold Values that must be referenced by moe than one method\n",
    "* They have default Values "
   ]
  },
  {
   "cell_type": "code",
   "execution_count": null,
   "metadata": {
    "vscode": {
     "languageId": "javascript"
    }
   },
   "outputs": [],
   "source": [
    "public class Car {\n",
    "  String make; // instance variable\n",
    "  String model;\n",
    "  int year;\n",
    "  \n",
    "  public Car(String make, String model, int year) {\n",
    "      this.make = make;\n",
    "      this.model = model;\n",
    "      this.year = year;\n",
    "  }\n",
    "  \n",
    "  public void display() {\n",
    "      System.out.println(\"Make: \" + make);\n",
    "      System.out.println(\"Model: \" + model);\n",
    "      System.out.println(\"Year: \" + year);\n",
    "  }\n",
    "}\n"
   ]
  },
  {
   "cell_type": "markdown",
   "metadata": {},
   "source": []
  },
  {
   "cell_type": "markdown",
   "metadata": {},
   "source": []
  }
 ],
 "metadata": {
  "kernelspec": {
   "display_name": "Python 3",
   "language": "python",
   "name": "python3"
  },
  "language_info": {
   "codemirror_mode": {
    "name": "ipython",
    "version": 3
   },
   "file_extension": ".py",
   "mimetype": "text/x-python",
   "name": "python",
   "nbconvert_exporter": "python",
   "pygments_lexer": "ipython3",
   "version": "3.11.2"
  },
  "orig_nbformat": 4
 },
 "nbformat": 4,
 "nbformat_minor": 2
}
